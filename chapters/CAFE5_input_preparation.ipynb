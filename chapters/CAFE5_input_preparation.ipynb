{
  "cells": [
    {
      "cell_type": "raw",
      "metadata": {},
      "source": [
        "---\n",
        "execute: \n",
        "  echo: true\n",
        "  eval: false\n",
        "  warning: false\n",
        "---"
      ],
      "id": "4b954d76"
    },
    {
      "cell_type": "markdown",
      "metadata": {},
      "source": [
        "# Input Preparation for Gene Family Analysis Evolution with CAFE5\n"
      ],
      "id": "2fc9d7de"
    },
    {
      "cell_type": "code",
      "metadata": {},
      "source": [
        "import pandas as pd\n",
        "import numpy as np \n",
        "import os\n",
        "from Bio import Phylo"
      ],
      "id": "3ea83651",
      "execution_count": null,
      "outputs": []
    },
    {
      "cell_type": "markdown",
      "metadata": {},
      "source": [
        "## Load Gene Count Data\n",
        "\n",
        "Load the combined counts of monocots and dicots:\n"
      ],
      "id": "b568f1a4"
    },
    {
      "cell_type": "code",
      "metadata": {},
      "source": [
        "df = pd.read_csv('../data/combined_counts.csv')\n",
        "df.head(20)"
      ],
      "id": "ced7b192",
      "execution_count": null,
      "outputs": []
    },
    {
      "cell_type": "markdown",
      "metadata": {},
      "source": [
        "Perform some checks to make sure the data is correct:\n"
      ],
      "id": "a777e565"
    },
    {
      "cell_type": "code",
      "metadata": {},
      "source": [
        "# check for missing values in monocots and dicots\n",
        "df = df[(~df['n_monocots'].isna()) | (~df['n_dicots'].isna())]\n",
        "df = df.drop(columns=['family_group_id'])\n",
        "df.isna().sum()"
      ],
      "id": "3012a0bd",
      "execution_count": null,
      "outputs": []
    },
    {
      "cell_type": "code",
      "metadata": {},
      "source": [
        "print(\" Check 1: Are there any rows where we have family_dicots but n_dicots is NaN?\")\n",
        "print(df[(df['family_dicots'].notna()) & (df['n_dicots'].isna())].shape)\n",
        "\n",
        "print(\" Check 2: Are there rows with family_monocots but n_monocots is NaN?\")\n",
        "print(df[(df['family_monocots'].notna()) & (df['n_monocots'].isna())].shape)\n",
        "\n",
        "print(\" Check 3: Compare how many total rows have family_dicots but missing n_dicots\")\n",
        "print(df['n_dicots'].isna().sum(), df['family_dicots'].isna().sum())\n",
        "\n",
        "print(\" Check 4: Compare how many total rows have family_monocots but missing n_monocots\")\n",
        "print(df['n_monocots'].isna().sum(), df['family_monocots'].isna().sum())"
      ],
      "id": "8759e997",
      "execution_count": null,
      "outputs": []
    },
    {
      "cell_type": "markdown",
      "metadata": {},
      "source": [
        "Compute gene counts by species and (dicot_family, monocots families) pairs, where monocots families can be none, 1 or a list of multiple families.\n"
      ],
      "id": "e4cf22ad"
    },
    {
      "cell_type": "code",
      "metadata": {},
      "source": [
        "# Fill NaNs with 0 for counts\n",
        "df['n_monocots'] = df['n_monocots'].fillna(0)\n",
        "df['n_dicots'] = df['n_dicots'].fillna(0)\n",
        "\n",
        "# Aggregate by species and dicot families\n",
        "dicots_grouped = df.groupby(['species', 'family_dicots']).agg(\n",
        "    n_monocots=('n_monocots', 'sum'),\n",
        "    n_dicots=('n_dicots', 'first'),\n",
        "    family_monocots=('family_monocots', lambda x: sorted(set(x.dropna())) if x.notna().any() else pd.NA)\n",
        ").reset_index()\n",
        "\n",
        "# Compute mean counts\n",
        "dicots_grouped['mean_counts'] = (dicots_grouped['n_monocots'] + dicots_grouped['n_dicots']) / 2\n",
        "dicots_grouped.head()"
      ],
      "id": "4179c954",
      "execution_count": null,
      "outputs": []
    },
    {
      "cell_type": "code",
      "metadata": {},
      "source": [
        "# format family_monocots correctly\n",
        "new_family_monocots = []\n",
        "for t in dicots_grouped.itertuples():\n",
        "    if np.all(pd.isna(t.family_monocots)):\n",
        "        new_family_monocots.append(pd.NA)\n",
        "    elif len(t.family_monocots) == 1:\n",
        "        new_family_monocots.append(t.family_monocots[0])\n",
        "    else:\n",
        "        if pd.isna(t.family_monocots).any():\n",
        "            print(t.family_monocots)\n",
        "        new_family_monocots.append(t.family_monocots)\n",
        "\n",
        "dicots_grouped['family_monocots'] = new_family_monocots"
      ],
      "id": "c37fc852",
      "execution_count": null,
      "outputs": []
    },
    {
      "cell_type": "markdown",
      "metadata": {},
      "source": [
        "Now the same for monocots and join the dataframes\n"
      ],
      "id": "e3f01fb6"
    },
    {
      "cell_type": "code",
      "metadata": {},
      "source": [
        "# Aggregate by species and monocots families\n",
        "monocots_grouped = df.groupby(['species', 'family_monocots']).agg(\n",
        "    n_monocots=('n_monocots', 'first'),\n",
        "    n_dicots=('n_dicots', 'sum'),\n",
        "    family_dicots=('family_dicots', lambda x: sorted(set(x.dropna())) if x.notna().any() else pd.NA)\n",
        ").reset_index()\n",
        "\n",
        "# Compute mean counts\n",
        "monocots_grouped['mean_counts'] = (monocots_grouped['n_monocots'] + monocots_grouped['n_dicots']) / 2\n",
        "\n",
        "def should_drop(val):\n",
        "    if isinstance(val, list) and len(val) == 1:\n",
        "        return pd.notna(val[0])\n",
        "    return False\n",
        "\n",
        "monocots_grouped = monocots_grouped[~monocots_grouped['family_dicots'].apply(should_drop)]\n",
        "\n",
        "# concatenate the two dataframes\n",
        "combined_df = pd.concat([monocots_grouped, dicots_grouped], ignore_index=True)\n",
        "combined_df.shape"
      ],
      "id": "8b292ef2",
      "execution_count": null,
      "outputs": []
    },
    {
      "cell_type": "markdown",
      "metadata": {},
      "source": [
        "Add unique family IDs for each pair of (monocots, dicots) families:\n"
      ],
      "id": "ab3e1810"
    },
    {
      "cell_type": "code",
      "metadata": {},
      "source": [
        "combined_df = combined_df.copy()\n",
        "\n",
        "# Convert lists to tuples so they can be hashed\n",
        "combined_df['family_dicots_hashable'] = combined_df['family_dicots'].apply(lambda x: tuple(x) if isinstance(x, list) else x)\n",
        "combined_df['family_monocots_hashable'] = combined_df['family_monocots'].apply(lambda x: tuple(x) if isinstance(x, list) else x)\n",
        "\n",
        "# Combine the two columns into one tuple per row\n",
        "combined_pairs = list(zip(combined_df['family_dicots_hashable'], combined_df['family_monocots_hashable']))\n",
        "\n",
        "# Factorize assigns a unique integer to each unique tuple\n",
        "combined_df['Family ID'] = pd.factorize(combined_pairs)[0]\n",
        "\n",
        "# (Optional) drop the hashable helper columns\n",
        "combined_df = combined_df.drop(columns=['family_dicots_hashable', 'family_monocots_hashable'])"
      ],
      "id": "4a3fbe6d",
      "execution_count": null,
      "outputs": []
    },
    {
      "cell_type": "markdown",
      "metadata": {},
      "source": [
        "Save auxiliary files:\n"
      ],
      "id": "e46403d6"
    },
    {
      "cell_type": "code",
      "metadata": {},
      "source": [
        "# save the dataframe to a CSV file\n",
        "combined_df.to_csv('../data/combined_counts_final.csv', index=False)\n",
        "\n",
        "# save a lookup table for family IDs\n",
        "lookup_df = combined_df[['Family ID', 'family_dicots', 'family_monocots']]\n",
        "lookup_df.to_csv('../data/family_id_lookup.csv', index=False)"
      ],
      "id": "40ab9ac9",
      "execution_count": null,
      "outputs": []
    },
    {
      "cell_type": "markdown",
      "metadata": {},
      "source": [
        "## Format for CAFE5\n"
      ],
      "id": "6016bdd8"
    },
    {
      "cell_type": "code",
      "metadata": {},
      "source": [
        "combined_df = pd.read_csv('../data/combined_counts_final.csv')\n",
        "# keep only necessary columns: species, mean_counts and Family ID\n",
        "final_df = combined_df[['species', 'mean_counts', 'Family ID']].copy()\n",
        "\n",
        "# remove species whe\n",
        "final_df = final_df[final_df['mean_counts'] > 0]\n",
        "\n",
        "# transform counts to int\n",
        "final_df['mean_counts'] = final_df['mean_counts'].astype(int)\n",
        "\n",
        "final_df.head()"
      ],
      "id": "cf1b5311",
      "execution_count": null,
      "outputs": []
    },
    {
      "cell_type": "markdown",
      "metadata": {},
      "source": [
        "Add species common names to the dataframe:\n"
      ],
      "id": "0ae38a5c"
    },
    {
      "cell_type": "code",
      "metadata": {},
      "source": [
        "# load species information\n",
        "metadata1 = pd.read_csv('../data/species_information_dicots.csv', comment='#', sep='\\t')[['species', 'common_name']]\n",
        "metadata2 = pd.read_csv('../data/species_information_monocots.csv', comment='#', sep='\\t')[['species', 'common_name']]\n",
        "\n",
        "# make the union\n",
        "metadata = pd.concat([metadata1, metadata2], ignore_index=True)\n",
        "metadata = metadata.drop_duplicates(subset=['species']) # remove duplicates\n",
        "metadata['common_name'] = metadata['common_name'].str.replace(\" \", \"_\") # replace spaces with underscores\n",
        "\n",
        "# put the correct species names \n",
        "final_df = final_df.merge(metadata, on='species', how='left')\n",
        "final_df = final_df.drop(columns=['species']).rename(columns={'common_name': 'species'})\n",
        "final_df.head()"
      ],
      "id": "b2f536e4",
      "execution_count": null,
      "outputs": []
    },
    {
      "cell_type": "markdown",
      "metadata": {},
      "source": [
        "Filter species to only those in the tree\n"
      ],
      "id": "fdbc86c1"
    },
    {
      "cell_type": "code",
      "metadata": {},
      "source": [
        "tree = Phylo.read(\"../data/subset_tree.txt\", \"newick\")\n",
        "species_in_tree = [term.name for term in tree.get_terminals()]\n",
        "species_set = set(species_in_tree)\n",
        "\n",
        "species_in_df = set(final_df['species'])\n",
        "final_df = final_df[final_df['species'].isin(species_set)]\n",
        "\n",
        "print(len(species_set), len(species_in_df),'keeping:', len(species_set.intersection(species_in_df)))"
      ],
      "id": "193d2af8",
      "execution_count": null,
      "outputs": []
    },
    {
      "cell_type": "code",
      "metadata": {},
      "source": [
        "# pivot the dataframe to have species as columns and family IDs as rows\n",
        "pivot_df = final_df.pivot(index='Family ID', columns='species', values='mean_counts').fillna(0).astype('Int64')\n",
        "pivot_df = pivot_df.reset_index()\n",
        "pivot_df.columns.name = None\n",
        "\n",
        "# remove columns with all zeros\n",
        "pivot_df = pivot_df.loc[:, (pivot_df != 0).any(axis=0)] \n",
        "\n",
        "# Add description column\n",
        "pivot_df['Desc'] = pivot_df['Family ID']\n",
        "cols = pivot_df.columns.tolist()\n",
        "cols = cols[-1:] + cols[:-1]\n",
        "pivot_df = pivot_df[cols]\n",
        "\n",
        "# change Desc and family ID to str, adding also a _\n",
        "pivot_df['Desc'] = pivot_df['Desc'].astype(str) + '_desc'\n",
        "pivot_df['Family ID'] = pivot_df['Family ID'].astype(str) + '_fam'\n",
        "\n",
        "pivot_df.head()"
      ],
      "id": "a599193b",
      "execution_count": null,
      "outputs": []
    },
    {
      "cell_type": "markdown",
      "metadata": {},
      "source": [
        "Save as .txt separated by tabs\n"
      ],
      "id": "527836aa"
    },
    {
      "cell_type": "code",
      "metadata": {},
      "source": [
        "pivot_df.to_csv('../data/species_family_counts.txt', sep='\\t', index=False)"
      ],
      "id": "57ed76f7",
      "execution_count": null,
      "outputs": []
    },
    {
      "cell_type": "markdown",
      "metadata": {},
      "source": [
        "Filter families based on gene counts:\n"
      ],
      "id": "68a09037"
    },
    {
      "cell_type": "code",
      "metadata": {},
      "source": [
        "df_small = pivot_df[pivot_df.iloc[:, 2:].max(axis=1) < 70] # Filter out families where any species has ≥100 genes\n",
        "df_small = df_small[df_small.iloc[:, 2:].gt(0).sum(axis=1) >= 2] # Keep only families with gene counts in ≥2 species\n",
        "df_small.to_csv(\"../data/species_family_counts_small.txt\", sep=\"\\t\", index=False)"
      ],
      "id": "9bf6e5e5",
      "execution_count": null,
      "outputs": []
    }
  ],
  "metadata": {
    "kernelspec": {
      "name": "python3",
      "language": "python",
      "display_name": "Python 3 (ipykernel)"
    }
  },
  "nbformat": 4,
  "nbformat_minor": 5
}